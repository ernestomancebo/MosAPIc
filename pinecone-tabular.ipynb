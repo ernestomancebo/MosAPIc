{
 "cells": [
  {
   "attachments": {},
   "cell_type": "markdown",
   "metadata": {},
   "source": [
    "# Pinecone Tabular\n",
    "\n",
    "Sample with Pinecone vector database for tabular data search."
   ]
  },
  {
   "cell_type": "code",
   "execution_count": 1,
   "metadata": {},
   "outputs": [
    {
     "data": {
      "text/plain": [
       "True"
      ]
     },
     "execution_count": 1,
     "metadata": {},
     "output_type": "execute_result"
    }
   ],
   "source": [
    "# Keys are not typed here :D\n",
    "from dotenv import load_dotenv\n",
    "\n",
    "load_dotenv('.env')"
   ]
  },
  {
   "cell_type": "code",
   "execution_count": 4,
   "metadata": {},
   "outputs": [
    {
     "name": "stdout",
     "output_type": "stream",
     "text": [
      "CPU times: total: 281 ms\n",
      "Wall time: 1.67 s\n"
     ]
    }
   ],
   "source": [
    "%%time\n",
    "%%capture\n",
    "\n",
    "from datasets import load_dataset\n",
    "\n",
    "data = load_dataset(\"ashraq/ott-qa-20k\", split=\"train\")\n"
   ]
  },
  {
   "attachments": {},
   "cell_type": "markdown",
   "metadata": {},
   "source": [
    "Let's see some entries."
   ]
  },
  {
   "cell_type": "code",
   "execution_count": 5,
   "metadata": {},
   "outputs": [],
   "source": [
    "import pandas as pd\n",
    "\n",
    "tables = []\n",
    "for doc in data:\n",
    "    table = pd.DataFrame(doc['data'], columns=doc['header'])\n",
    "    tables.append(table)"
   ]
  },
  {
   "attachments": {},
   "cell_type": "markdown",
   "metadata": {},
   "source": [
    "Initialize Retriever"
   ]
  },
  {
   "cell_type": "code",
   "execution_count": 6,
   "metadata": {},
   "outputs": [],
   "source": [
    "%%capture\n",
    "\n",
    "import torch\n",
    "from sentence_transformers import SentenceTransformer\n",
    "\n",
    "# set device to GPU if available\n",
    "device = 'cuda' if torch.cuda.is_available() else 'cpu'\n",
    "# load the table embedding model from huggingface models hub\n",
    "retriever = SentenceTransformer(\"deepset/all-mpnet-base-v2-table\", device=device)\n",
    "retriever"
   ]
  },
  {
   "attachments": {},
   "cell_type": "markdown",
   "metadata": {},
   "source": [
    "Now let's process the tables"
   ]
  },
  {
   "cell_type": "code",
   "execution_count": 8,
   "metadata": {},
   "outputs": [],
   "source": [
    "def _preprocess_tables(tables: list):\n",
    "    processed = []\n",
    "    # loop through all tables\n",
    "    for table in tables:\n",
    "        # convert the table to csv and \n",
    "        processed_table = \"\\n\".join([table.to_csv(index=False)])\n",
    "        # add the processed table to processed list\n",
    "        processed.append(processed_table)\n",
    "    return processed\n"
   ]
  },
  {
   "attachments": {},
   "cell_type": "markdown",
   "metadata": {},
   "source": [
    "Looking at formatted tables"
   ]
  },
  {
   "cell_type": "code",
   "execution_count": 9,
   "metadata": {},
   "outputs": [
    {
     "name": "stdout",
     "output_type": "stream",
     "text": [
      "Level,Team,League,Manager\n",
      "AAA,Tidewater Tides,International League,Tom Burgess\n",
      "AA,Jackson Mets,Texas League,John Antonelli\n",
      "A,Lynchburg Mets,Carolina League,Jack Aker\n",
      "A,Wausau Mets,Midwest League,Bill Monbouquette\n",
      "Rookie,Marion Mets,Appalachian League,Al Jackson\n",
      "\n"
     ]
    }
   ],
   "source": [
    "# format all the dataframes in the tables list\n",
    "processed_tables = _preprocess_tables(tables)\n",
    "# display the formatted table\n",
    "print(str(processed_tables[2]))"
   ]
  },
  {
   "cell_type": "code",
   "execution_count": 10,
   "metadata": {},
   "outputs": [],
   "source": [
    "import pinecone\n",
    "from os import environ\n",
    "\n",
    "# connect to pinecone environment\n",
    "pinecone.init(api_key=environ.get('PINECONE_API_KEY'),\n",
    "              environment=environ.get('PINECONE_API_REGION'))"
   ]
  },
  {
   "cell_type": "code",
   "execution_count": 11,
   "metadata": {},
   "outputs": [],
   "source": [
    "# Creating the index\n",
    "\n",
    "# you can choose any name for the index\n",
    "index_name = \"table-qa\"\n",
    "\n",
    "# check if the table-qa index exists\n",
    "if index_name not in pinecone.list_indexes():\n",
    "    # create the index if it does not exist\n",
    "    pinecone.create_index(index_name,\n",
    "                          dimension=768,\n",
    "                          metric=\"cosine\")\n",
    "\n",
    "# connect to table-qa index we created\n",
    "index = pinecone.Index(index_name)\n"
   ]
  },
  {
   "attachments": {},
   "cell_type": "markdown",
   "metadata": {},
   "source": [
    "Now we're into embedding and upserting."
   ]
  },
  {
   "cell_type": "code",
   "execution_count": 12,
   "metadata": {},
   "outputs": [
    {
     "name": "stderr",
     "output_type": "stream",
     "text": [
      "100%|██████████| 313/313 [09:33<00:00,  1.83s/it]\n"
     ]
    },
    {
     "data": {
      "text/plain": [
       "{'dimension': 768,\n",
       " 'index_fullness': 0.1,\n",
       " 'namespaces': {'': {'vector_count': 20000}},\n",
       " 'total_vector_count': 20000}"
      ]
     },
     "execution_count": 12,
     "metadata": {},
     "output_type": "execute_result"
    }
   ],
   "source": [
    "from tqdm.auto import tqdm\n",
    "\n",
    "# we will use batches of 64\n",
    "batch_size = 64\n",
    "\n",
    "for i in tqdm(range(0, len(processed_tables), batch_size)):\n",
    "    # find end of batch\n",
    "    i_end = min(i+batch_size, len(processed_tables))\n",
    "    # extract batch\n",
    "    batch = processed_tables[i:i_end]\n",
    "    # generate embeddings for batch\n",
    "    emb = retriever.encode(batch).tolist()\n",
    "    # create unique IDs ranging from zero to the total number of tables in the dataset\n",
    "    ids = [f\"{idx}\" for idx in range(i, i_end)]\n",
    "    # add all to upsert list\n",
    "    to_upsert = list(zip(ids, emb))\n",
    "    # upsert/insert these records to pinecone\n",
    "    _ = index.upsert(vectors=to_upsert)\n",
    "\n",
    "# check that we have all vectors in index\n",
    "index.describe_index_stats()"
   ]
  },
  {
   "cell_type": "code",
   "execution_count": 18,
   "metadata": {},
   "outputs": [
    {
     "data": {
      "text/plain": [
       "{'matches': [{'id': '2960', 'score': 0.554292321, 'values': []}],\n",
       " 'namespace': ''}"
      ]
     },
     "execution_count": 18,
     "metadata": {},
     "output_type": "execute_result"
    }
   ],
   "source": [
    "query = \"Where is Antigua and Barbuda?\"\n",
    "# generate embedding for the query\n",
    "xq = retriever.encode([query]).tolist()\n",
    "# query pinecone index to find the table containing answer to the query\n",
    "result = index.query(xq, top_k=1)\n",
    "result"
   ]
  },
  {
   "cell_type": "code",
   "execution_count": 19,
   "metadata": {},
   "outputs": [
    {
     "data": {
      "text/html": [
       "<div>\n",
       "<style scoped>\n",
       "    .dataframe tbody tr th:only-of-type {\n",
       "        vertical-align: middle;\n",
       "    }\n",
       "\n",
       "    .dataframe tbody tr th {\n",
       "        vertical-align: top;\n",
       "    }\n",
       "\n",
       "    .dataframe thead th {\n",
       "        text-align: right;\n",
       "    }\n",
       "</style>\n",
       "<table border=\"1\" class=\"dataframe\">\n",
       "  <thead>\n",
       "    <tr style=\"text-align: right;\">\n",
       "      <th></th>\n",
       "      <th>Name</th>\n",
       "      <th>Subdivisions</th>\n",
       "      <th>Area ( km² )</th>\n",
       "      <th>Population ( 1 July 2005 est . )</th>\n",
       "      <th>Population density ( per km² )</th>\n",
       "      <th>Capital</th>\n",
       "    </tr>\n",
       "  </thead>\n",
       "  <tbody>\n",
       "    <tr>\n",
       "      <th>0</th>\n",
       "      <td>Antigua and Barbuda</td>\n",
       "      <td>Parishes</td>\n",
       "      <td>440</td>\n",
       "      <td>85,632</td>\n",
       "      <td>195</td>\n",
       "      <td>St. John 's</td>\n",
       "    </tr>\n",
       "    <tr>\n",
       "      <th>1</th>\n",
       "      <td>Antigua and Barbuda</td>\n",
       "      <td>Barbuda</td>\n",
       "      <td>161</td>\n",
       "      <td>1,370</td>\n",
       "      <td>9.65</td>\n",
       "      <td>Codrington</td>\n",
       "    </tr>\n",
       "    <tr>\n",
       "      <th>2</th>\n",
       "      <td>Antigua and Barbuda</td>\n",
       "      <td>Redonda</td>\n",
       "      <td>2</td>\n",
       "      <td>0</td>\n",
       "      <td>0</td>\n",
       "      <td>n/a</td>\n",
       "    </tr>\n",
       "    <tr>\n",
       "      <th>3</th>\n",
       "      <td>Barbados</td>\n",
       "      <td>Parishes</td>\n",
       "      <td>431</td>\n",
       "      <td>284,589</td>\n",
       "      <td>660</td>\n",
       "      <td>Bridgetown</td>\n",
       "    </tr>\n",
       "    <tr>\n",
       "      <th>4</th>\n",
       "      <td>Dominica</td>\n",
       "      <td>Parishes</td>\n",
       "      <td>754</td>\n",
       "      <td>72,660</td>\n",
       "      <td>96.3</td>\n",
       "      <td>Roseau</td>\n",
       "    </tr>\n",
       "  </tbody>\n",
       "</table>\n",
       "</div>"
      ],
      "text/plain": [
       "                  Name Subdivisions Area ( km² )  \\\n",
       "0  Antigua and Barbuda     Parishes          440   \n",
       "1  Antigua and Barbuda      Barbuda          161   \n",
       "2  Antigua and Barbuda      Redonda            2   \n",
       "3             Barbados     Parishes          431   \n",
       "4             Dominica     Parishes          754   \n",
       "\n",
       "  Population ( 1 July 2005 est . ) Population density ( per km² )      Capital  \n",
       "0                           85,632                            195  St. John 's  \n",
       "1                            1,370                           9.65   Codrington  \n",
       "2                                0                              0          n/a  \n",
       "3                          284,589                            660   Bridgetown  \n",
       "4                           72,660                           96.3       Roseau  "
      ]
     },
     "execution_count": 19,
     "metadata": {},
     "output_type": "execute_result"
    }
   ],
   "source": [
    "id = int(result[\"matches\"][0][\"id\"])\n",
    "tables[id].head()"
   ]
  },
  {
   "attachments": {},
   "cell_type": "markdown",
   "metadata": {},
   "source": [
    "## Tapas for properly do Q and A"
   ]
  },
  {
   "cell_type": "code",
   "execution_count": 30,
   "metadata": {},
   "outputs": [],
   "source": [
    "from transformers import pipeline, TapasTokenizer, TapasForQuestionAnswering\n",
    "\n",
    "model_name = \"google/tapas-base-finetuned-wtq\"\n",
    "# load the tokenizer and the model from huggingface model hub\n",
    "tokenizer = TapasTokenizer.from_pretrained(model_name)\n",
    "model = TapasForQuestionAnswering.from_pretrained(\n",
    "    model_name, local_files_only=False)\n",
    "# load the model and tokenizer into a question-answering pipeline\n",
    "pipe = pipeline(\"table-question-answering\",  model=model,\n",
    "                tokenizer=tokenizer, device=0)"
   ]
  },
  {
   "cell_type": "code",
   "execution_count": 31,
   "metadata": {},
   "outputs": [
    {
     "data": {
      "text/plain": [
       "{'answer': 'Antigua and Barbuda',\n",
       " 'coordinates': [(0, 0)],\n",
       " 'cells': ['Antigua and Barbuda'],\n",
       " 'aggregator': 'NONE'}"
      ]
     },
     "execution_count": 31,
     "metadata": {},
     "output_type": "execute_result"
    }
   ],
   "source": [
    "pipe(table=tables[id], query=query, device=0)"
   ]
  },
  {
   "cell_type": "code",
   "execution_count": 35,
   "metadata": {},
   "outputs": [],
   "source": [
    "def query_pinecone(query):\n",
    "    # generate embedding for the query\n",
    "    xq = retriever.encode([query]).tolist()\n",
    "    # query pinecone index to find the table containing answer to the query\n",
    "    result = index.query(xq, top_k=1)\n",
    "    # return the relevant table from the tables list\n",
    "    return tables[int(result[\"matches\"][0][\"id\"])]"
   ]
  },
  {
   "cell_type": "code",
   "execution_count": 36,
   "metadata": {},
   "outputs": [],
   "source": [
    "def get_answer_from_table(table, query):\n",
    "    # run the table and query through the question-answering pipeline\n",
    "    answers = pipe(table=table, query=query)\n",
    "    return answers"
   ]
  },
  {
   "cell_type": "code",
   "execution_count": 40,
   "metadata": {},
   "outputs": [
    {
     "data": {
      "text/html": [
       "<div>\n",
       "<style scoped>\n",
       "    .dataframe tbody tr th:only-of-type {\n",
       "        vertical-align: middle;\n",
       "    }\n",
       "\n",
       "    .dataframe tbody tr th {\n",
       "        vertical-align: top;\n",
       "    }\n",
       "\n",
       "    .dataframe thead th {\n",
       "        text-align: right;\n",
       "    }\n",
       "</style>\n",
       "<table border=\"1\" class=\"dataframe\">\n",
       "  <thead>\n",
       "    <tr style=\"text-align: right;\">\n",
       "      <th></th>\n",
       "      <th>Species</th>\n",
       "      <th>Common name</th>\n",
       "      <th>Puerto Rico</th>\n",
       "    </tr>\n",
       "  </thead>\n",
       "  <tbody>\n",
       "    <tr>\n",
       "      <th>0</th>\n",
       "      <td>Anolis cuvieri</td>\n",
       "      <td>Puerto Rican Giant Anole</td>\n",
       "      <td>X</td>\n",
       "    </tr>\n",
       "    <tr>\n",
       "      <th>1</th>\n",
       "      <td>Anolis roosevelti</td>\n",
       "      <td>Culebra Island Giant Anole</td>\n",
       "      <td></td>\n",
       "    </tr>\n",
       "    <tr>\n",
       "      <th>2</th>\n",
       "      <td>Anolis occultus</td>\n",
       "      <td>Puerto Rican Twig Anole</td>\n",
       "      <td>X</td>\n",
       "    </tr>\n",
       "    <tr>\n",
       "      <th>3</th>\n",
       "      <td>Anolis evermanni</td>\n",
       "      <td>Emerald Anole</td>\n",
       "      <td>X</td>\n",
       "    </tr>\n",
       "    <tr>\n",
       "      <th>4</th>\n",
       "      <td>Anolis stratulus</td>\n",
       "      <td>Barred Anole</td>\n",
       "      <td>X</td>\n",
       "    </tr>\n",
       "    <tr>\n",
       "      <th>5</th>\n",
       "      <td>Anolis gundlachi</td>\n",
       "      <td>Yellow-Chinned Anole</td>\n",
       "      <td>X</td>\n",
       "    </tr>\n",
       "    <tr>\n",
       "      <th>6</th>\n",
       "      <td>Anolis cristatellus cristatellus</td>\n",
       "      <td>Puerto Rican Crested Anole</td>\n",
       "      <td>X</td>\n",
       "    </tr>\n",
       "    <tr>\n",
       "      <th>7</th>\n",
       "      <td>Anolis cristatellus wileyae</td>\n",
       "      <td>Eastern Puerto Rican Crested Anole</td>\n",
       "      <td></td>\n",
       "    </tr>\n",
       "    <tr>\n",
       "      <th>8</th>\n",
       "      <td>Anolis desechensis</td>\n",
       "      <td>Desecheo Anole</td>\n",
       "      <td></td>\n",
       "    </tr>\n",
       "    <tr>\n",
       "      <th>9</th>\n",
       "      <td>Anolis cooki</td>\n",
       "      <td>Cook 's Anole</td>\n",
       "      <td>X</td>\n",
       "    </tr>\n",
       "    <tr>\n",
       "      <th>10</th>\n",
       "      <td>Anolis monensis</td>\n",
       "      <td>Mona Anole</td>\n",
       "      <td></td>\n",
       "    </tr>\n",
       "    <tr>\n",
       "      <th>11</th>\n",
       "      <td>Anolis pulchellus</td>\n",
       "      <td>Puerto Rican Anole</td>\n",
       "      <td>X</td>\n",
       "    </tr>\n",
       "    <tr>\n",
       "      <th>12</th>\n",
       "      <td>Anolis krugi</td>\n",
       "      <td>Upland Grass Anole</td>\n",
       "      <td>X</td>\n",
       "    </tr>\n",
       "    <tr>\n",
       "      <th>13</th>\n",
       "      <td>Anolis poncensis</td>\n",
       "      <td>Dryland Grass Anole</td>\n",
       "      <td>X</td>\n",
       "    </tr>\n",
       "    <tr>\n",
       "      <th>14</th>\n",
       "      <td>Cyclura pinguis</td>\n",
       "      <td>Anegada Ground Iguana</td>\n",
       "      <td>X</td>\n",
       "    </tr>\n",
       "    <tr>\n",
       "      <th>15</th>\n",
       "      <td>Cyclura portoricensis</td>\n",
       "      <td>Puerto Rican Iguana</td>\n",
       "      <td>X</td>\n",
       "    </tr>\n",
       "    <tr>\n",
       "      <th>16</th>\n",
       "      <td>Cyclura nubila nubila</td>\n",
       "      <td>Cuban Ground Iguana</td>\n",
       "      <td>X</td>\n",
       "    </tr>\n",
       "    <tr>\n",
       "      <th>17</th>\n",
       "      <td>Cyclura cornuta stejnegeri</td>\n",
       "      <td>Mona Ground Iguana</td>\n",
       "      <td></td>\n",
       "    </tr>\n",
       "    <tr>\n",
       "      <th>18</th>\n",
       "      <td>Iguana iguana</td>\n",
       "      <td>Green Iguana</td>\n",
       "      <td>X</td>\n",
       "    </tr>\n",
       "    <tr>\n",
       "      <th>19</th>\n",
       "      <td>Iguana delicatissima</td>\n",
       "      <td>Lesser Antillean Iguana</td>\n",
       "      <td>X</td>\n",
       "    </tr>\n",
       "  </tbody>\n",
       "</table>\n",
       "</div>"
      ],
      "text/plain": [
       "                             Species                         Common name  \\\n",
       "0                     Anolis cuvieri            Puerto Rican Giant Anole   \n",
       "1                  Anolis roosevelti          Culebra Island Giant Anole   \n",
       "2                    Anolis occultus             Puerto Rican Twig Anole   \n",
       "3                   Anolis evermanni                       Emerald Anole   \n",
       "4                   Anolis stratulus                        Barred Anole   \n",
       "5                   Anolis gundlachi                Yellow-Chinned Anole   \n",
       "6   Anolis cristatellus cristatellus          Puerto Rican Crested Anole   \n",
       "7        Anolis cristatellus wileyae  Eastern Puerto Rican Crested Anole   \n",
       "8                 Anolis desechensis                      Desecheo Anole   \n",
       "9                       Anolis cooki                       Cook 's Anole   \n",
       "10                   Anolis monensis                          Mona Anole   \n",
       "11                 Anolis pulchellus                  Puerto Rican Anole   \n",
       "12                      Anolis krugi                  Upland Grass Anole   \n",
       "13                  Anolis poncensis                 Dryland Grass Anole   \n",
       "14                   Cyclura pinguis               Anegada Ground Iguana   \n",
       "15             Cyclura portoricensis                 Puerto Rican Iguana   \n",
       "16             Cyclura nubila nubila                 Cuban Ground Iguana   \n",
       "17        Cyclura cornuta stejnegeri                  Mona Ground Iguana   \n",
       "18                     Iguana iguana                        Green Iguana   \n",
       "19              Iguana delicatissima             Lesser Antillean Iguana   \n",
       "\n",
       "   Puerto Rico  \n",
       "0            X  \n",
       "1               \n",
       "2            X  \n",
       "3            X  \n",
       "4            X  \n",
       "5            X  \n",
       "6            X  \n",
       "7               \n",
       "8               \n",
       "9            X  \n",
       "10              \n",
       "11           X  \n",
       "12           X  \n",
       "13           X  \n",
       "14           X  \n",
       "15           X  \n",
       "16           X  \n",
       "17              \n",
       "18           X  \n",
       "19           X  "
      ]
     },
     "execution_count": 40,
     "metadata": {},
     "output_type": "execute_result"
    }
   ],
   "source": [
    "query = \"where can I find piranhas?\"\n",
    "table = query_pinecone(query)\n",
    "table"
   ]
  },
  {
   "cell_type": "code",
   "execution_count": 41,
   "metadata": {},
   "outputs": [
    {
     "data": {
      "text/plain": [
       "{'answer': 'Anolis cuvieri',\n",
       " 'coordinates': [(0, 0)],\n",
       " 'cells': ['Anolis cuvieri'],\n",
       " 'aggregator': 'NONE'}"
      ]
     },
     "execution_count": 41,
     "metadata": {},
     "output_type": "execute_result"
    }
   ],
   "source": [
    "get_answer_from_table(table, query)\n"
   ]
  },
  {
   "cell_type": "code",
   "execution_count": 43,
   "metadata": {},
   "outputs": [
    {
     "data": {
      "text/html": [
       "<div>\n",
       "<style scoped>\n",
       "    .dataframe tbody tr th:only-of-type {\n",
       "        vertical-align: middle;\n",
       "    }\n",
       "\n",
       "    .dataframe tbody tr th {\n",
       "        vertical-align: top;\n",
       "    }\n",
       "\n",
       "    .dataframe thead th {\n",
       "        text-align: right;\n",
       "    }\n",
       "</style>\n",
       "<table border=\"1\" class=\"dataframe\">\n",
       "  <thead>\n",
       "    <tr style=\"text-align: right;\">\n",
       "      <th></th>\n",
       "      <th>Year</th>\n",
       "      <th>British</th>\n",
       "      <th>German</th>\n",
       "    </tr>\n",
       "  </thead>\n",
       "  <tbody>\n",
       "    <tr>\n",
       "      <th>0</th>\n",
       "      <td>2000</td>\n",
       "      <td>J. C. Smith , National Institute for Medical R...</td>\n",
       "      <td>Thomas Jentsch [ de ] , Center for Molecular N...</td>\n",
       "    </tr>\n",
       "    <tr>\n",
       "      <th>1</th>\n",
       "      <td>1999</td>\n",
       "      <td>Kay Elizabeth Davies , University of Oxford</td>\n",
       "      <td>Günter Schultz [ de ] , Free University of Berlin</td>\n",
       "    </tr>\n",
       "    <tr>\n",
       "      <th>2</th>\n",
       "      <td>1998</td>\n",
       "      <td>Ron Laskey , University of Cambridge</td>\n",
       "      <td>Michael Frotscher [ de ] , University of Freib...</td>\n",
       "    </tr>\n",
       "    <tr>\n",
       "      <th>3</th>\n",
       "      <td>1997</td>\n",
       "      <td>Richard S. J. Frackowiak [ de ] , University C...</td>\n",
       "      <td>Arthur Konnerth , Saarland University</td>\n",
       "    </tr>\n",
       "    <tr>\n",
       "      <th>4</th>\n",
       "      <td>1996</td>\n",
       "      <td>Alan R. Fersht , University of Cambridge</td>\n",
       "      <td>Walter Neupert [ de ] , Ludwig Maximilian Univ...</td>\n",
       "    </tr>\n",
       "  </tbody>\n",
       "</table>\n",
       "</div>"
      ],
      "text/plain": [
       "   Year                                            British  \\\n",
       "0  2000  J. C. Smith , National Institute for Medical R...   \n",
       "1  1999        Kay Elizabeth Davies , University of Oxford   \n",
       "2  1998               Ron Laskey , University of Cambridge   \n",
       "3  1997  Richard S. J. Frackowiak [ de ] , University C...   \n",
       "4  1996           Alan R. Fersht , University of Cambridge   \n",
       "\n",
       "                                              German  \n",
       "0  Thomas Jentsch [ de ] , Center for Molecular N...  \n",
       "1  Günter Schultz [ de ] , Free University of Berlin  \n",
       "2  Michael Frotscher [ de ] , University of Freib...  \n",
       "3              Arthur Konnerth , Saarland University  \n",
       "4  Walter Neupert [ de ] , Ludwig Maximilian Univ...  "
      ]
     },
     "execution_count": 43,
     "metadata": {},
     "output_type": "execute_result"
    }
   ],
   "source": [
    "query = \"which scientist is known for phlogiston?\"\n",
    "table = query_pinecone(query)\n",
    "table.head()"
   ]
  },
  {
   "cell_type": "code",
   "execution_count": 44,
   "metadata": {},
   "outputs": [
    {
     "data": {
      "text/plain": [
       "{'answer': '', 'coordinates': [], 'cells': [], 'aggregator': 'NONE'}"
      ]
     },
     "execution_count": 44,
     "metadata": {},
     "output_type": "execute_result"
    }
   ],
   "source": [
    "get_answer_from_table(table, query)\n"
   ]
  },
  {
   "cell_type": "code",
   "execution_count": 45,
   "metadata": {},
   "outputs": [
    {
     "data": {
      "text/html": [
       "<div>\n",
       "<style scoped>\n",
       "    .dataframe tbody tr th:only-of-type {\n",
       "        vertical-align: middle;\n",
       "    }\n",
       "\n",
       "    .dataframe tbody tr th {\n",
       "        vertical-align: top;\n",
       "    }\n",
       "\n",
       "    .dataframe thead th {\n",
       "        text-align: right;\n",
       "    }\n",
       "</style>\n",
       "<table border=\"1\" class=\"dataframe\">\n",
       "  <thead>\n",
       "    <tr style=\"text-align: right;\">\n",
       "      <th></th>\n",
       "      <th>CO 2 intensity ( kg/kWh )</th>\n",
       "      <th>Power station</th>\n",
       "      <th>Country</th>\n",
       "    </tr>\n",
       "  </thead>\n",
       "  <tbody>\n",
       "    <tr>\n",
       "      <th>0</th>\n",
       "      <td>1.58</td>\n",
       "      <td>Hazelwood Power Station , Victoria closed 31 M...</td>\n",
       "      <td>Australia</td>\n",
       "    </tr>\n",
       "    <tr>\n",
       "      <th>1</th>\n",
       "      <td>1.56</td>\n",
       "      <td>Edwardsport IGCC , Edwardsport , Indiana , clo...</td>\n",
       "      <td>United States</td>\n",
       "    </tr>\n",
       "    <tr>\n",
       "      <th>2</th>\n",
       "      <td>1.27</td>\n",
       "      <td>Frimmersdorf power plant , Grevenbroich</td>\n",
       "      <td>Germany</td>\n",
       "    </tr>\n",
       "    <tr>\n",
       "      <th>3</th>\n",
       "      <td>1.25</td>\n",
       "      <td>HR Milner Generating Station , Grande Cache , ...</td>\n",
       "      <td>Canada</td>\n",
       "    </tr>\n",
       "    <tr>\n",
       "      <th>4</th>\n",
       "      <td>1.18</td>\n",
       "      <td>C. TG . Portes Gil , Río Bravo</td>\n",
       "      <td>Mexico</td>\n",
       "    </tr>\n",
       "  </tbody>\n",
       "</table>\n",
       "</div>"
      ],
      "text/plain": [
       "  CO 2 intensity ( kg/kWh )  \\\n",
       "0                      1.58   \n",
       "1                      1.56   \n",
       "2                      1.27   \n",
       "3                      1.25   \n",
       "4                      1.18   \n",
       "\n",
       "                                       Power station        Country  \n",
       "0  Hazelwood Power Station , Victoria closed 31 M...      Australia  \n",
       "1  Edwardsport IGCC , Edwardsport , Indiana , clo...  United States  \n",
       "2            Frimmersdorf power plant , Grevenbroich        Germany  \n",
       "3  HR Milner Generating Station , Grande Cache , ...         Canada  \n",
       "4                     C. TG . Portes Gil , Río Bravo         Mexico  "
      ]
     },
     "execution_count": 45,
     "metadata": {},
     "output_type": "execute_result"
    }
   ],
   "source": [
    "query = \"what is the average carbon emission of power stations in australia, canada and germany?\"\n",
    "table = query_pinecone(query)\n",
    "table.head()"
   ]
  },
  {
   "cell_type": "code",
   "execution_count": 46,
   "metadata": {},
   "outputs": [
    {
     "data": {
      "text/plain": [
       "{'answer': 'AVERAGE > 1.58, 1.27, 1.25',\n",
       " 'coordinates': [(0, 0), (2, 0), (3, 0)],\n",
       " 'cells': ['1.58', '1.27', '1.25'],\n",
       " 'aggregator': 'AVERAGE'}"
      ]
     },
     "execution_count": 46,
     "metadata": {},
     "output_type": "execute_result"
    }
   ],
   "source": [
    "get_answer_from_table(table, query)"
   ]
  }
 ],
 "metadata": {
  "kernelspec": {
   "display_name": ".venv",
   "language": "python",
   "name": "python3"
  },
  "language_info": {
   "codemirror_mode": {
    "name": "ipython",
    "version": 3
   },
   "file_extension": ".py",
   "mimetype": "text/x-python",
   "name": "python",
   "nbconvert_exporter": "python",
   "pygments_lexer": "ipython3",
   "version": "3.10.11"
  },
  "orig_nbformat": 4
 },
 "nbformat": 4,
 "nbformat_minor": 2
}
